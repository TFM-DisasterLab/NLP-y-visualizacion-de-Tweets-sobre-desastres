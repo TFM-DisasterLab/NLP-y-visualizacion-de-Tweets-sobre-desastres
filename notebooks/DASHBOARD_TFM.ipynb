{
  "cells": [
    {
      "cell_type": "markdown",
      "metadata": {
        "id": "I7UtmdsbX-aS"
      },
      "source": [
        "## MODELO FUNCIONAL NO INTERACTIVO"
      ]
    },
    {
      "cell_type": "code",
      "execution_count": 1,
      "metadata": {
        "colab": {
          "base_uri": "https://localhost:8080/",
          "height": 671
        },
        "id": "FSS7-CqGjZXJ",
        "outputId": "800ed722-69e7-4b97-e22f-f387376e0e6a"
      },
      "outputs": [
        {
          "name": "stderr",
          "output_type": "stream",
          "text": [
            "C:\\Users\\branc\\AppData\\Local\\Temp\\ipykernel_35684\\1147560519.py:4: UserWarning: \n",
            "The dash_table package is deprecated. Please replace\n",
            "`import dash_table` with `from dash import dash_table`\n",
            "\n",
            "Also, if you're using any of the table format helpers (e.g. Group), replace \n",
            "`from dash_table.Format import Group` with \n",
            "`from dash.dash_table.Format import Group`\n",
            "  import dash_table\n"
          ]
        },
        {
          "data": {
            "text/html": [
              "\n",
              "        <iframe\n",
              "            width=\"100%\"\n",
              "            height=\"650\"\n",
              "            src=\"http://127.0.0.1:8050/\"\n",
              "            frameborder=\"0\"\n",
              "            allowfullscreen\n",
              "            \n",
              "        ></iframe>\n",
              "        "
            ],
            "text/plain": [
              "<IPython.lib.display.IFrame at 0x200dc4250d0>"
            ]
          },
          "metadata": {},
          "output_type": "display_data"
        }
      ],
      "source": [
        "import webview\n",
        "import threading\n",
        "from dash import Dash, dcc, html\n",
        "import dash_table\n",
        "import pandas as pd\n",
        "import plotly.express as px\n",
        "\n",
        "# Aquí incluimos el código de tu dashboard\n",
        "def create_dash_app():\n",
        "    # Cargar datos y definir gráficos (tu código de dashboard)\n",
        "    file_path = \"dataframe_api_historico.csv\"\n",
        "    df = pd.read_csv(file_path)\n",
        "    df_filtered = df.dropna(subset=[\"Model2\"])\n",
        "    desastres_count = df_filtered[df_filtered[\"Model2\"] != \"not informative\"][\"Model2\"].value_counts().reset_index()\n",
        "    desastres_count.columns = [\"Tipo de Desastre\", \"Total\"]\n",
        "\n",
        "    info_type_filtered = df.dropna(subset=[\"Model3\"])\n",
        "    info_type_filtered = info_type_filtered[df[\"Model3\"] != \"not informative\"]\n",
        "    info_type_count = info_type_filtered[\"Model3\"].value_counts().reset_index()\n",
        "    info_type_count.columns = [\"Categoría de Información\", \"Total\"]\n",
        "\n",
        "    grouped_bar_model3 = px.bar(\n",
        "        info_type_count, x='Categoría de Información', y='Total',\n",
        "        title='Distribución de Tipos de Información',\n",
        "        labels={'Categoría de Información': 'Categoría de Información', 'Total': 'Cantidad'},\n",
        "        color='Categoría de Información',\n",
        "        text_auto=False\n",
        "    )\n",
        "\n",
        "    model1_count = df.dropna(subset=[\"Model1\"])[\"Model1\"].value_counts().reset_index()\n",
        "    model1_count.columns = [\"Clasificación\", \"Total\"]\n",
        "\n",
        "    pie_model1 = px.pie(\n",
        "        df, names='Model1', title='Distribución de Informative vs Not Related', hole=0.0\n",
        "    )\n",
        "\n",
        "    grouped_bar_model2 = px.bar(\n",
        "        desastres_count, x='Tipo de Desastre', y='Total',\n",
        "        title='Distribución de Tipos de Desastres', text='Total',\n",
        "        labels={'Tipo de Desastre': 'Tipo de Desastre', 'Total': 'Cantidad'}\n",
        "    )\n",
        "\n",
        "    app = Dash(__name__)\n",
        "    app.layout = html.Div([\n",
        "        html.H1(\"Análisis de Tweets sobre Desastres Naturales\", style={'color': 'white', 'font-family': 'Arial, sans-serif'}),\n",
        "        html.H3(f\"Total de Tweets analizados: {df.shape[0]}\", style={'color': 'white', 'font-family': 'Arial, sans-serif'}),\n",
        "        html.Div([\n",
        "            dcc.Graph(figure=pie_model1, style={'width': '30%', 'display': 'inline-block'}),\n",
        "            dcc.Graph(figure=grouped_bar_model2, style={'width': '30%', 'display': 'inline-block'}),\n",
        "            dcc.Graph(figure=grouped_bar_model3, style={'width': '30%', 'display': 'inline-block'}),\n",
        "        ], style={'textAlign': 'center'}),\n",
        "        html.Div([\n",
        "            html.Div([\n",
        "                html.H3(\"Conteo de Informative vs Not Related\", style={'color': 'white', 'font-family': 'Arial, sans-serif'}),\n",
        "                dash_table.DataTable(\n",
        "                    columns=[{\"name\": col, \"id\": col} for col in model1_count.columns],\n",
        "                    data=model1_count.to_dict(\"records\"),\n",
        "                    page_size=10,\n",
        "                    style_table={'font-family': 'Arial, sans-serif'}\n",
        "                ),\n",
        "            ], style={'width': '30%', 'display': 'inline-block', 'vertical-align': 'top'}),\n",
        "            html.Div([\n",
        "                html.H3(\"Conteo de Desastres Naturales\", style={'color': 'white', 'font-family': 'Arial, sans-serif'}),\n",
        "                dash_table.DataTable(\n",
        "                    columns=[{\"name\": col, \"id\": col} for col in desastres_count.columns],\n",
        "                    data=desastres_count.to_dict(\"records\"),\n",
        "                    page_size=10,\n",
        "                    style_table={'font-family': 'Arial, sans-serif'}\n",
        "                ),\n",
        "            ], style={'width': '30%', 'display': 'inline-block', 'vertical-align': 'top'}),\n",
        "            html.Div([\n",
        "                html.H3(\"Conteo de Tweets por Categoría en Model3\", style={'color': 'white', 'font-family': 'Arial, sans-serif'}),\n",
        "                dash_table.DataTable(\n",
        "                    columns=[{\"name\": col, \"id\": col} for col in info_type_count.columns],\n",
        "                    data=info_type_count.to_dict(\"records\"),\n",
        "                    page_size=10,\n",
        "                    style_table={'font-family': 'Arial, sans-serif'}\n",
        "                ),\n",
        "            ], style={'width': '30%', 'display': 'inline-block', 'vertical-align': 'top'}),\n",
        "        ], style={'textAlign': 'center'}),\n",
        "        html.H3(\"Tweets Clasificados\", style={'color': 'white', 'font-family': 'Arial, sans-serif'}),\n",
        "        dash_table.DataTable(\n",
        "            columns=[{\"name\": col, \"id\": col} for col in [\"CreatedAt\", \"Text\", \"Model1\", \"Model2\", \"Model3\"]],\n",
        "            data=df.to_dict(\"records\"),\n",
        "            page_size=10,\n",
        "            style_table={'font-family': 'Arial, sans-serif'}\n",
        "        ),\n",
        "    ], style={'backgroundColor': '#000000', 'padding': '20px'})\n",
        "    \n",
        "    return app\n",
        "\n",
        "# Start the Dash app on a separate thread\n",
        "def run_dash():\n",
        "    app = create_dash_app()\n",
        "    app.run_server(debug=False, port=8050)\n",
        "\n",
        "if __name__ == '__main__':\n",
        "    # Start the Dash app in a thread so that we can open it in a window\n",
        "    dash_thread = threading.Thread(target=run_dash)\n",
        "    dash_thread.daemon = True\n",
        "    dash_thread.start()\n",
        "\n",
        "    # Open the dashboard in a native window using pywebview\n",
        "    import webview\n",
        "    webview.create_window(\"Dashboard TFM\", \"http://127.0.0.1:8050\", width=1200, height=800)\n",
        "    webview.start()\n",
        "\n"
      ]
    }
  ],
  "metadata": {
    "accelerator": "GPU",
    "colab": {
      "gpuType": "T4",
      "machine_shape": "hm",
      "provenance": []
    },
    "kernelspec": {
      "display_name": ".venv",
      "language": "python",
      "name": "python3"
    },
    "language_info": {
      "codemirror_mode": {
        "name": "ipython",
        "version": 3
      },
      "file_extension": ".py",
      "mimetype": "text/x-python",
      "name": "python",
      "nbconvert_exporter": "python",
      "pygments_lexer": "ipython3",
      "version": "3.11.9"
    }
  },
  "nbformat": 4,
  "nbformat_minor": 0
}
