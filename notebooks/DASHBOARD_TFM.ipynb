{
  "cells": [
    {
      "cell_type": "markdown",
      "metadata": {
        "id": "C8WLVoB5PVZr"
      },
      "source": [
        "## DASHBOARD INTERACTIVO: ANÁLISIS DE TWEETS SOBRE DESASTRES NATURALES"
      ]
    },
    {
      "cell_type": "code",
      "source": [
        "import webview\n",
        "import threading\n",
        "import dash\n",
        "from dash import dcc, html, dash_table, Input, Output\n",
        "import dash_bootstrap_components as dbc\n",
        "import plotly.express as px\n",
        "import pandas as pd\n",
        "\n",
        "# Cargar los datos\n",
        "file_path = \"/content/dataframe_api_historico.csv\"\n",
        "df = pd.read_csv(file_path)\n",
        "\n",
        "# Procesamiento de datos según la estructura original del modelo\n",
        "# Filtrar valores no nulos en 'Model2'\n",
        "df_filtered = df.dropna(subset=[\"Model2\"])\n",
        "df_filtered = df_filtered[df_filtered[\"Model2\"] != \"not informative\"]\n",
        "\n",
        "# Conteo de tipos de desastre\n",
        "desastres_count = df_filtered[\"Model2\"].value_counts().reset_index()\n",
        "desastres_count.columns = [\"Tipo de Desastre\", \"Total\"]\n",
        "\n",
        "# Conteo de categorías de información de 'Model3'\n",
        "info_type_filtered = df.dropna(subset=[\"Model3\"])\n",
        "info_type_filtered = info_type_filtered[info_type_filtered[\"Model3\"] != \"not informative\"]\n",
        "info_type_count = info_type_filtered[\"Model3\"].value_counts().reset_index()\n",
        "info_type_count.columns = [\"Categoría de Información\", \"Total\"]\n",
        "\n",
        "# Conteo de clasificación de 'Model1'\n",
        "model1_count = df.dropna(subset=[\"Model1\"])[\"Model1\"].value_counts().reset_index()\n",
        "model1_count.columns = [\"Clasificación\", \"Total\"]\n",
        "\n",
        "# Inicializar la aplicación Dash con Bootstrap\n",
        "def create_dash_app():\n",
        "    app = dash.Dash(__name__, external_stylesheets=[dbc.themes.FLATLY])\n",
        "    app.layout = dbc.Container([\n",
        "        dbc.Row([\n",
        "            dbc.Col(html.H1(\"Análisis de Tweets sobre Desastres Naturales\", style={'color': 'black'}), width=12)\n",
        "        ], className=\"mb-4 text-center\"),\n",
        "\n",
        "        dbc.Row([\n",
        "            dbc.Col(html.H3(f\"Total de Tweets analizados: {df.shape[0]}\", style={'color': 'black'}), width=12)\n",
        "        ], className=\"mb-3 text-center\"),\n",
        "\n",
        "        dbc.Row([\n",
        "            dbc.Col(dcc.Graph(id=\"pie_model1\", config={\"responsive\": True}), width=6),\n",
        "            dbc.Col(dcc.Graph(id=\"grouped_bar_model2\", config={\"responsive\": True}), width=6),\n",
        "        ], className=\"mb-4\"),\n",
        "\n",
        "        dbc.Row([\n",
        "            dbc.Col(dcc.Graph(id=\"grouped_bar_model3\", config={\"responsive\": True}), width=6),\n",
        "        ], className=\"mb-4\"),\n",
        "    ], fluid=True)\n",
        "\n",
        "    @app.callback(\n",
        "        Output(\"grouped_bar_model2\", \"figure\"),\n",
        "        Output(\"grouped_bar_model3\", \"figure\"),\n",
        "        Output(\"pie_model1\", \"figure\"),\n",
        "        Input(\"grouped_bar_model2\", \"id\")\n",
        "    )\n",
        "    def update_graphs(_):\n",
        "        # Gráfico de barras para tipos de desastre\n",
        "        grouped_bar_model2 = px.bar(\n",
        "            desastres_count, x=\"Tipo de Desastre\", y=\"Total\",\n",
        "            title=\"Distribución de Tipos de Desastres\",\n",
        "            labels={\"Total\": \"Cantidad\"},\n",
        "            color=\"Tipo de Desastre\",\n",
        "            text_auto=True\n",
        "        )\n",
        "\n",
        "        # Gráfico de barras para categorías de información\n",
        "        grouped_bar_model3 = px.bar(\n",
        "            info_type_count, x=\"Categoría de Información\", y=\"Total\",\n",
        "            title=\"Distribución de Tipos de Información\",\n",
        "            labels={\"Total\": \"Cantidad\"},\n",
        "            color=\"Categoría de Información\",\n",
        "            text_auto=True\n",
        "        )\n",
        "\n",
        "        # Gráfico de pastel para clasificación de Model1\n",
        "        pie_model1 = px.pie(\n",
        "            model1_count, names=\"Clasificación\", values=\"Total\",\n",
        "            title=\"Distribución de Informative vs Not Related\"\n",
        "        )\n",
        "\n",
        "        return grouped_bar_model2, grouped_bar_model3, pie_model1\n",
        "\n",
        "    return app\n",
        "\n",
        "# Iniciar la aplicación Dash en un hilo separado\n",
        "def run_dash():\n",
        "    app = create_dash_app()\n",
        "    app.run_server(debug=False, port=8050)\n",
        "\n",
        "if __name__ == '__main__':\n",
        "    dash_thread = threading.Thread(target=run_dash)\n",
        "    dash_thread.daemon = True\n",
        "    dash_thread.start()\n",
        "\n",
        "    # Abrir el dashboard en una ventana nativa con pywebview\n",
        "    webview.create_window(\"Dashboard TFM\", \"http://127.0.0.1:8050\", width=1200, height=800)\n",
        "    webview.start()\n"
      ],
      "metadata": {
        "id": "Rm1w3xCgbRBB",
        "colab": {
          "base_uri": "https://localhost:8080/",
          "height": 671
        },
        "outputId": "71dd7b2c-2a15-4032-a345-bf3e9da017c2"
      },
      "execution_count": null,
      "outputs": [
        {
          "output_type": "display_data",
          "data": {
            "text/plain": [
              "<IPython.core.display.Javascript object>"
            ],
            "application/javascript": [
              "(async (port, path, width, height, cache, element) => {\n",
              "    if (!google.colab.kernel.accessAllowed && !cache) {\n",
              "      return;\n",
              "    }\n",
              "    element.appendChild(document.createTextNode(''));\n",
              "    const url = await google.colab.kernel.proxyPort(port, {cache});\n",
              "    const iframe = document.createElement('iframe');\n",
              "    iframe.src = new URL(path, url).toString();\n",
              "    iframe.height = height;\n",
              "    iframe.width = width;\n",
              "    iframe.style.border = 0;\n",
              "    iframe.allow = [\n",
              "        'accelerometer',\n",
              "        'autoplay',\n",
              "        'camera',\n",
              "        'clipboard-read',\n",
              "        'clipboard-write',\n",
              "        'gyroscope',\n",
              "        'magnetometer',\n",
              "        'microphone',\n",
              "        'serial',\n",
              "        'usb',\n",
              "        'xr-spatial-tracking',\n",
              "    ].join('; ');\n",
              "    element.appendChild(iframe);\n",
              "  })(8050, \"/\", \"100%\", 650, false, window.element)"
            ]
          },
          "metadata": {}
        }
      ]
    },
    {
      "cell_type": "code",
      "source": [],
      "metadata": {
        "id": "PQ8S6moHb-9o"
      },
      "execution_count": null,
      "outputs": []
    }
  ],
  "metadata": {
    "colab": {
      "provenance": [],
      "gpuType": "T4"
    },
    "kernelspec": {
      "display_name": "Python 3",
      "name": "python3"
    },
    "language_info": {
      "name": "python"
    },
    "accelerator": "GPU"
  },
  "nbformat": 4,
  "nbformat_minor": 0
}